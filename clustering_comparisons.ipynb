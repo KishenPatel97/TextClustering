{
 "cells": [
  {
   "cell_type": "code",
   "execution_count": 1,
   "id": "82c674a9",
   "metadata": {},
   "outputs": [],
   "source": [
    "from datasets import load_dataset\n",
    "import spacy\n",
    "\n",
    "from pathlib import Path\n",
    "from os import listdir\n",
    "from os.path import isfile, join\n",
    "import os\n",
    "import pandas as pd\n",
    "import nltk\n",
    "import spacy\n",
    "import re\n",
    "from sklearn.feature_extraction.text import TfidfVectorizer\n",
    "from sklearn.metrics.pairwise import cosine_similarity\n",
    "from sklearn.cluster import KMeans\n",
    "from sklearn.cluster import MiniBatchKMeans\n",
    "from sklearn.decomposition import PCA\n",
    "from sklearn.manifold import TSNE\n",
    "\n",
    "from nltk import word_tokenize\n",
    "from nltk.util import ngrams\n",
    "from collections import Counter\n",
    "\n",
    "import seaborn as sns\n",
    "\n",
    "import matplotlib.pyplot as plt\n",
    "import matplotlib.cm as cm"
   ]
  },
  {
   "cell_type": "code",
   "execution_count": 2,
   "id": "d921d0fc",
   "metadata": {},
   "outputs": [],
   "source": [
    "# This notebook will run clustering analysis on the test set of the cnn/dm articles.\n",
    "# it will be able to analyze the affect of clustering through \n",
    "#### PCA and t-SNE visualizations,\n",
    "#### Word clouds of each cluster + top 10 words\n",
    "#### \n",
    "\n",
    "# Parameters include \n",
    "# stopword set \n",
    "#### show the affect on the histogram of unigrams in the articles, highlights, and summaries.\n",
    "\n",
    "# Show amount of articles not in the same clusters across different clustering techniques"
   ]
  },
  {
   "cell_type": "code",
   "execution_count": 3,
   "id": "c8388408",
   "metadata": {},
   "outputs": [],
   "source": [
    "# get dataframes of article test set, \n",
    "## raw text, highlights, small model summaries and sota model summaries\n",
    "\n",
    "# data cleaning functions with varying degrees of stop word removal\n",
    "## function for visualizing unigram counts + with stop word set\n",
    "\n",
    "# Kmeans clustering grid search\n",
    "## save graph automatically\n",
    "\n",
    "# PCA visualization\n",
    "# t-SNE visualization\n",
    "\n",
    "# word cloud function for all clusters\n",
    "# top 10 words function\n",
    "## save graph automatically"
   ]
  },
  {
   "cell_type": "code",
   "execution_count": 4,
   "id": "f9813ce2",
   "metadata": {},
   "outputs": [],
   "source": [
    "def get_article_data():\n",
    "    \"\"\"gets the test_df for cnn_dailymail\"\"\"\n",
    "    dataset = load_dataset('cnn_dailymail', '3.0.0')\n",
    "    df = pd.DataFrame(dataset['test'])\n",
    "    return df"
   ]
  },
  {
   "cell_type": "code",
   "execution_count": 5,
   "id": "adbdbe6d",
   "metadata": {},
   "outputs": [
    {
     "name": "stderr",
     "output_type": "stream",
     "text": [
      "Reusing dataset cnn_dailymail (C:\\Users\\Cooper\\.cache\\huggingface\\datasets\\cnn_dailymail\\3.0.0\\3.0.0\\3cb851bf7cf5826e45d49db2863f627cba583cbc32342df7349dfe6c38060234)\n"
     ]
    },
    {
     "data": {
      "application/vnd.jupyter.widget-view+json": {
       "model_id": "49ac525592a8496a96fde2dbe3655520",
       "version_major": 2,
       "version_minor": 0
      },
      "text/plain": [
       "  0%|          | 0/3 [00:00<?, ?it/s]"
      ]
     },
     "metadata": {},
     "output_type": "display_data"
    }
   ],
   "source": [
    "df = get_article_data()"
   ]
  },
  {
   "cell_type": "code",
   "execution_count": 6,
   "id": "4e5c8236",
   "metadata": {},
   "outputs": [
    {
     "data": {
      "text/plain": [
       "Index(['article', 'highlights', 'id'], dtype='object')"
      ]
     },
     "execution_count": 6,
     "metadata": {},
     "output_type": "execute_result"
    }
   ],
   "source": [
    "df.columns"
   ]
  },
  {
   "cell_type": "code",
   "execution_count": 7,
   "id": "dec21f73",
   "metadata": {},
   "outputs": [],
   "source": [
    "def get_summary_data():\n",
    "    \"\"\"gets the summaries of the test data for cnn_dailymail into pandas dataframe\"\"\"\n",
    "    pass"
   ]
  },
  {
   "cell_type": "code",
   "execution_count": 8,
   "id": "8c0cdd9c",
   "metadata": {},
   "outputs": [],
   "source": [
    "def compare_original_clean(df):\n",
    "    \"\"\"compares the an original article with the cleaned one.\"\"\"\n",
    "    print(f\"Original Article\\n{df['article'][0]}\")\n",
    "    print(f\"Original Highlights\\n{df['highlights'][0]}\")\n",
    "    print()\n",
    "    print(f\"Original Article\\n{df['clean_article'][0]}\")\n",
    "    print(f\"Original Highlights\\n{df['clean_highlights'][0]}\")"
   ]
  },
  {
   "cell_type": "code",
   "execution_count": 9,
   "id": "f6dce474",
   "metadata": {},
   "outputs": [],
   "source": [
    "def get_stop_words():\n",
    "    \"\"\"gets the stop words list\"\"\"\n",
    "    stopwords = nltk.corpus.stopwords.words('english')\n",
    "    return stopwords"
   ]
  },
  {
   "cell_type": "code",
   "execution_count": 10,
   "id": "c6ec2864",
   "metadata": {},
   "outputs": [],
   "source": [
    "from nltk.stem.snowball import SnowballStemmer, PorterStemmer\n",
    "# stemmer = SnowballStemmer(\"english\")\n",
    "stemmer = PorterStemmer()\n",
    "\n",
    "def tokenize_and_stem(text):\n",
    "    # first tokenize by sentence, then by word to ensure that punctuation is caught as it's own token\n",
    "    tokens = [word for sent in nltk.sent_tokenize(text) for word in nltk.word_tokenize(sent)]\n",
    "    filtered_tokens = []\n",
    "    # filter out any tokens not containing letters (e.g., numeric tokens, raw punctuation)\n",
    "    for token in tokens:\n",
    "        if re.search('[a-zA-Z]', token):\n",
    "            filtered_tokens.append(token)\n",
    "    stems = [stemmer.stem(t) for t in filtered_tokens]\n",
    "    return stems\n",
    "\n",
    "def tokenize_only(text):\n",
    "    # first tokenize by sentence, then by word to ensure that punctuation is caught as it's own token\n",
    "    tokens = [word.lower() for sent in nltk.sent_tokenize(text) for word in nltk.word_tokenize(sent)]\n",
    "    filtered_tokens = []\n",
    "    # filter out any tokens not containing letters (e.g., numeric tokens, raw punctuation)\n",
    "    for token in tokens:\n",
    "        if re.search('[a-zA-Z]', token):\n",
    "            filtered_tokens.append(token)\n",
    "    return filtered_tokens"
   ]
  },
  {
   "cell_type": "code",
   "execution_count": 11,
   "id": "a4909b2f",
   "metadata": {},
   "outputs": [
    {
     "name": "stdout",
     "output_type": "stream",
     "text": [
      "['i', 'me', 'my', 'myself', 'we', 'our', 'ours', 'ourselves', 'you', \"you're\", \"you've\", \"you'll\", \"you'd\", 'your', 'yours', 'yourself', 'yourselves', 'he', 'him', 'his', 'himself', 'she', \"she's\", 'her', 'hers', 'herself', 'it', \"it's\", 'its', 'itself', 'they', 'them', 'their', 'theirs', 'themselves', 'what', 'which', 'who', 'whom', 'this', 'that', \"that'll\", 'these', 'those', 'am', 'is', 'are', 'was', 'were', 'be', 'been', 'being', 'have', 'has', 'had', 'having', 'do', 'does', 'did', 'doing', 'a', 'an', 'the', 'and', 'but', 'if', 'or', 'because', 'as', 'until', 'while', 'of', 'at', 'by', 'for', 'with', 'about', 'against', 'between', 'into', 'through', 'during', 'before', 'after', 'above', 'below', 'to', 'from', 'up', 'down', 'in', 'out', 'on', 'off', 'over', 'under', 'again', 'further', 'then', 'once', 'here', 'there', 'when', 'where', 'why', 'how', 'all', 'any', 'both', 'each', 'few', 'more', 'most', 'other', 'some', 'such', 'no', 'nor', 'not', 'only', 'own', 'same', 'so', 'than', 'too', 'very', 's', 't', 'can', 'will', 'just', 'don', \"don't\", 'should', \"should've\", 'now', 'd', 'll', 'm', 'o', 're', 've', 'y', 'ain', 'aren', \"aren't\", 'couldn', \"couldn't\", 'didn', \"didn't\", 'doesn', \"doesn't\", 'hadn', \"hadn't\", 'hasn', \"hasn't\", 'haven', \"haven't\", 'isn', \"isn't\", 'ma', 'mightn', \"mightn't\", 'mustn', \"mustn't\", 'needn', \"needn't\", 'shan', \"shan't\", 'shouldn', \"shouldn't\", 'wasn', \"wasn't\", 'weren', \"weren't\", 'won', \"won't\", 'wouldn', \"wouldn't\"]\n"
     ]
    }
   ],
   "source": [
    "stopwords = get_stop_words()\n",
    "print(stopwords)"
   ]
  },
  {
   "cell_type": "code",
   "execution_count": 12,
   "id": "d6b1b834",
   "metadata": {},
   "outputs": [],
   "source": [
    "def clean_stopwords(stopwords):\n",
    "    \"\"\"extends stopwords with the stemmed versions as well\"\"\"\n",
    "    \n",
    "    processed_stopwords = []\n",
    "    tok_stem_stopwords = tokenize_and_stem(\" \".join(stopwords))\n",
    "    \n",
    "    for tok in tok_stem_stopwords:\n",
    "        processed_stopwords.append(tok)\n",
    "    all_stopwords = processed_stopwords + stopwords\n",
    "    return all_stopwords"
   ]
  },
  {
   "cell_type": "code",
   "execution_count": 13,
   "id": "093ec8dc",
   "metadata": {},
   "outputs": [
    {
     "name": "stdout",
     "output_type": "stream",
     "text": [
      "['i', 'me', 'my', 'myself', 'we', 'our', 'our', 'ourselv', 'you', 'you', \"'re\", 'you', \"'ve\", 'you', \"'ll\", 'you', \"'d\", 'your', 'your', 'yourself', 'yourselv', 'he', 'him', 'hi', 'himself', 'she', 'she', \"'s\", 'her', 'her', 'herself', 'it', 'it', \"'s\", 'it', 'itself', 'they', 'them', 'their', 'their', 'themselv', 'what', 'which', 'who', 'whom', 'thi', 'that', 'that', \"'ll\", 'these', 'those', 'am', 'is', 'are', 'wa', 'were', 'be', 'been', 'be', 'have', 'ha', 'had', 'have', 'do', 'doe', 'did', 'do', 'a', 'an', 'the', 'and', 'but', 'if', 'or', 'becaus', 'as', 'until', 'while', 'of', 'at', 'by', 'for', 'with', 'about', 'against', 'between', 'into', 'through', 'dure', 'befor', 'after', 'abov', 'below', 'to', 'from', 'up', 'down', 'in', 'out', 'on', 'off', 'over', 'under', 'again', 'further', 'then', 'onc', 'here', 'there', 'when', 'where', 'whi', 'how', 'all', 'ani', 'both', 'each', 'few', 'more', 'most', 'other', 'some', 'such', 'no', 'nor', 'not', 'onli', 'own', 'same', 'so', 'than', 'too', 'veri', 's', 't', 'can', 'will', 'just', 'don', 'do', \"n't\", 'should', 'should', \"'ve\", 'now', 'd', 'll', 'm', 'o', 're', 've', 'y', 'ain', 'aren', 'are', \"n't\", 'couldn', 'could', \"n't\", 'didn', 'did', \"n't\", 'doesn', 'doe', \"n't\", 'hadn', 'had', \"n't\", 'hasn', 'ha', \"n't\", 'haven', 'have', \"n't\", 'isn', 'is', \"n't\", 'ma', 'mightn', 'might', \"n't\", 'mustn', 'must', \"n't\", 'needn', 'need', \"n't\", 'shan', 'sha', \"n't\", 'shouldn', 'should', \"n't\", 'wasn', 'wa', \"n't\", 'weren', 'were', \"n't\", 'won', 'wo', \"n't\", 'wouldn', 'would', \"n't\", 'i', 'me', 'my', 'myself', 'we', 'our', 'ours', 'ourselves', 'you', \"you're\", \"you've\", \"you'll\", \"you'd\", 'your', 'yours', 'yourself', 'yourselves', 'he', 'him', 'his', 'himself', 'she', \"she's\", 'her', 'hers', 'herself', 'it', \"it's\", 'its', 'itself', 'they', 'them', 'their', 'theirs', 'themselves', 'what', 'which', 'who', 'whom', 'this', 'that', \"that'll\", 'these', 'those', 'am', 'is', 'are', 'was', 'were', 'be', 'been', 'being', 'have', 'has', 'had', 'having', 'do', 'does', 'did', 'doing', 'a', 'an', 'the', 'and', 'but', 'if', 'or', 'because', 'as', 'until', 'while', 'of', 'at', 'by', 'for', 'with', 'about', 'against', 'between', 'into', 'through', 'during', 'before', 'after', 'above', 'below', 'to', 'from', 'up', 'down', 'in', 'out', 'on', 'off', 'over', 'under', 'again', 'further', 'then', 'once', 'here', 'there', 'when', 'where', 'why', 'how', 'all', 'any', 'both', 'each', 'few', 'more', 'most', 'other', 'some', 'such', 'no', 'nor', 'not', 'only', 'own', 'same', 'so', 'than', 'too', 'very', 's', 't', 'can', 'will', 'just', 'don', \"don't\", 'should', \"should've\", 'now', 'd', 'll', 'm', 'o', 're', 've', 'y', 'ain', 'aren', \"aren't\", 'couldn', \"couldn't\", 'didn', \"didn't\", 'doesn', \"doesn't\", 'hadn', \"hadn't\", 'hasn', \"hasn't\", 'haven', \"haven't\", 'isn', \"isn't\", 'ma', 'mightn', \"mightn't\", 'mustn', \"mustn't\", 'needn', \"needn't\", 'shan', \"shan't\", 'shouldn', \"shouldn't\", 'wasn', \"wasn't\", 'weren', \"weren't\", 'won', \"won't\", 'wouldn', \"wouldn't\"]\n"
     ]
    }
   ],
   "source": [
    "cleaned_stopwords = clean_stopwords(stopwords)\n",
    "print(cleaned_stopwords)"
   ]
  },
  {
   "cell_type": "code",
   "execution_count": 14,
   "id": "e13807da",
   "metadata": {},
   "outputs": [],
   "source": [
    "def clean_data(df):\n",
    "    \"\"\"removes stop words, makes everything lowercase, removes punctuation\"\"\"\n",
    "    punctuation_signs = list(\"?:!,;'\")\n",
    "\n",
    "    # removing special characters\n",
    "    df['clean_article'] = df['article'].str.replace(\"\\r\", \" \")\n",
    "    df['clean_article'] = df['article'].str.replace(\"\\n\", \" \")\n",
    "    df['clean_article'] = df['article'].str.replace(\"    \", \" \")\n",
    "\n",
    "    # lowercasing text\n",
    "    df['clean_article'] = df['article'].str.lower()\n",
    "\n",
    "    # removing punctuation\n",
    "    for punct_sign in punctuation_signs:\n",
    "        df['clean_article'] = df['article'].str.replace(punct_sign, '')\n",
    "\n",
    "        \n",
    "    # remove possesive pronouns\n",
    "    df['clean_highlights'] = df['highlights'].str.replace(\"'s\", '')\n",
    "    \n",
    "    # removing special characters\n",
    "    df['clean_highlights'] = df['highlights'].str.replace(\"\\r\", \" \")\n",
    "    df['clean_highlights'] = df['highlights'].str.replace(\"\\n\", \" \")\n",
    "    df['clean_highlights'] = df['highlights'].str.replace(\"    \", \" \")\n",
    "\n",
    "    # lowercasing text\n",
    "    df['clean_highlights'] = df['highlights'].str.lower()\n",
    "\n",
    "    # removing punctuation\n",
    "    for punct_sign in punctuation_signs:\n",
    "        df['clean_highlights'] = df['highlights'].str.replace(punct_sign, '')\n",
    "\n",
    "    # remove possesive pronouns\n",
    "    df['clean_highlights'] = df['highlights'].str.replace(\"'s\", '')\n",
    "    \n",
    "    return df"
   ]
  },
  {
   "cell_type": "code",
   "execution_count": 15,
   "id": "d7191e4e",
   "metadata": {},
   "outputs": [
    {
     "name": "stderr",
     "output_type": "stream",
     "text": [
      "C:\\Users\\Cooper\\AppData\\Local\\Temp/ipykernel_17116/2741784634.py:15: FutureWarning: The default value of regex will change from True to False in a future version. In addition, single character regular expressions will *not* be treated as literal strings when regex=True.\n",
      "  df['clean_article'] = df['article'].str.replace(punct_sign, '')\n",
      "C:\\Users\\Cooper\\AppData\\Local\\Temp/ipykernel_17116/2741784634.py:31: FutureWarning: The default value of regex will change from True to False in a future version. In addition, single character regular expressions will *not* be treated as literal strings when regex=True.\n",
      "  df['clean_highlights'] = df['highlights'].str.replace(punct_sign, '')\n"
     ]
    }
   ],
   "source": [
    "df = clean_data(df)"
   ]
  },
  {
   "cell_type": "code",
   "execution_count": 16,
   "id": "d6bc6443",
   "metadata": {},
   "outputs": [],
   "source": [
    "def get_vocab_tokenized_stemmed(df):\n",
    "    \"\"\"tokenizes and stems the article of each row, \n",
    "       returns the total vocab stemmed and tokenized\"\"\"\n",
    "    # http://brandonrose.org/clustering\n",
    "    \n",
    "    nltk.download('punkt')\n",
    "    \n",
    "    totalvocab_stemmed = []\n",
    "    totalvocab_tokenized = []\n",
    "    \n",
    "    length_df = len(df)\n",
    "    \n",
    "    def per_row(row):\n",
    "        if row.name % 500 == 0:\n",
    "            print(f\"Tokenizing and stemming row: {row.name} / {length_df}\")\n",
    "        allwords_stemmed = tokenize_and_stem(row.article) #for each article, tokenize/stem\n",
    "        totalvocab_stemmed.extend(allwords_stemmed) # extend the 'totalvocab_stemmed' list\n",
    "\n",
    "        allwords_tokenized = tokenize_only(row.article)\n",
    "        totalvocab_tokenized.extend(allwords_tokenized)\n",
    "    \n",
    "    df.apply(per_row, axis=1)\n",
    "    \n",
    "    # print(f\"All Vocab Tokenized:\\n{totalvocab_tokenized}\")\n",
    "    \n",
    "    vocab_frame = pd.DataFrame({'words': totalvocab_tokenized}, index = totalvocab_stemmed)\n",
    "    print('there are ' + str(vocab_frame.shape[0]) + ' items in vocab_frame')\n",
    "    \n",
    "    return totalvocab_stemmed, totalvocab_tokenized"
   ]
  },
  {
   "cell_type": "code",
   "execution_count": null,
   "id": "576fd381",
   "metadata": {},
   "outputs": [
    {
     "name": "stderr",
     "output_type": "stream",
     "text": [
      "[nltk_data] Downloading package punkt to\n",
      "[nltk_data]     C:\\Users\\Cooper\\AppData\\Roaming\\nltk_data...\n",
      "[nltk_data]   Package punkt is already up-to-date!\n"
     ]
    },
    {
     "name": "stdout",
     "output_type": "stream",
     "text": [
      "Tokenizing and stemming row: 0 / 11490\n",
      "Tokenizing and stemming row: 500 / 11490\n",
      "Tokenizing and stemming row: 1000 / 11490\n"
     ]
    }
   ],
   "source": [
    "totalvocab_stemmed, totalvocab_tokenized = get_vocab_tokenized_stemmed(df)"
   ]
  },
  {
   "cell_type": "code",
   "execution_count": null,
   "id": "d9e7b632",
   "metadata": {},
   "outputs": [],
   "source": [
    "df.columns"
   ]
  },
  {
   "cell_type": "code",
   "execution_count": null,
   "id": "d7b51c32",
   "metadata": {},
   "outputs": [],
   "source": [
    "def get_unigram_counts(df):\n",
    "    \"\"\"visualizes the count of words of whole corpus\"\"\"\n",
    "    tokens = []\n",
    "    \n",
    "    def per_row(row):\n",
    "        if row.name % 1000 == 0:\n",
    "            print(f\"Tokenizing row: {row.name} / {len(df)}\")\n",
    "        tokens.extend(nltk.word_tokenize(row[\"clean_article\"]))\n",
    "\n",
    "    df.apply(per_row, axis=1)\n",
    "    \n",
    "    unigram_count = Counter(tokens)\n",
    "    \n",
    "    return unigram_count"
   ]
  },
  {
   "cell_type": "code",
   "execution_count": null,
   "id": "e96c44a4",
   "metadata": {},
   "outputs": [],
   "source": [
    "unigram_count = get_unigram_counts(df)"
   ]
  },
  {
   "cell_type": "code",
   "execution_count": null,
   "id": "f9bc6e36",
   "metadata": {},
   "outputs": [],
   "source": [
    "unigram_count.most_common(100)"
   ]
  },
  {
   "cell_type": "code",
   "execution_count": null,
   "id": "22326696",
   "metadata": {},
   "outputs": [],
   "source": [
    "def get_extended_stopwords(most_counted):\n",
    "    \"\"\"returns a list of the top words\"\"\"\n",
    "    extended_stopwords = []\n",
    "    for item in most_counted:\n",
    "        extended_stopwords.append(item[0])\n",
    "    return extended_stopwords"
   ]
  },
  {
   "cell_type": "code",
   "execution_count": null,
   "id": "2acb6b57",
   "metadata": {},
   "outputs": [],
   "source": [
    "ext_stopwords = get_extended_stopwords(unigram_count.most_common(100))"
   ]
  },
  {
   "cell_type": "code",
   "execution_count": null,
   "id": "24b25416",
   "metadata": {},
   "outputs": [],
   "source": [
    "print(ext_stopwords)"
   ]
  },
  {
   "cell_type": "code",
   "execution_count": null,
   "id": "d7ec2b3d",
   "metadata": {},
   "outputs": [],
   "source": [
    "clean_ext_stopwords = clean_stopwords(ext_stopwords)\n",
    "print(clean_ext_stopwords)"
   ]
  },
  {
   "cell_type": "code",
   "execution_count": null,
   "id": "9e8ffdfa",
   "metadata": {},
   "outputs": [],
   "source": [
    "# makes master list of stop words removing 100 most occuring tokens in articles\n",
    "extended_stopwords = cleaned_stopwords + clean_ext_stopwords\n",
    "extended_stopwords.append(\"becau\")\n",
    "print(extended_stopwords)"
   ]
  },
  {
   "cell_type": "code",
   "execution_count": null,
   "id": "2533777c",
   "metadata": {},
   "outputs": [],
   "source": [
    "cleaned_stopwords.append(\"becau\")"
   ]
  },
  {
   "cell_type": "code",
   "execution_count": null,
   "id": "88b617eb",
   "metadata": {},
   "outputs": [],
   "source": []
  },
  {
   "cell_type": "code",
   "execution_count": null,
   "id": "d0f17c6e",
   "metadata": {},
   "outputs": [],
   "source": [
    "tfidf_vectorizer_1 = TfidfVectorizer(max_df=0.8, max_features=200000,\n",
    "                                   min_df=0.2, stop_words=cleaned_stopwords,\n",
    "                                   use_idf=True, tokenizer=tokenize_and_stem, ngram_range=(1,3))\n",
    "\n",
    "tfidf_matrix_1 = tfidf_vectorizer_1.fit_transform(df.clean_article) #fit the vectorizer to the articles\n",
    "#tfidf_matrix_highlights = tfidf_vectorizer.fit_transform(\n",
    "#    df.clean_highlights) #fit the vectorizer to the highlights"
   ]
  },
  {
   "cell_type": "code",
   "execution_count": 149,
   "id": "3403ee05",
   "metadata": {},
   "outputs": [],
   "source": [
    "tfidf_vectorizer_2 = TfidfVectorizer(max_df=0.95, max_features=200000,\n",
    "                                   min_df=0.05, stop_words=cleaned_stopwords,\n",
    "                                   use_idf=True, tokenizer=tokenize_and_stem, ngram_range=(1,3))\n",
    "\n",
    "tfidf_matrix_2 = tfidf_vectorizer_2.fit_transform(df.clean_article) #fit the vectorizer to the articles\n",
    "#tfidf_matrix_highlights = tfidf_vectorizer.fit_transform(\n",
    "#    df.clean_highlights) #fit the vectorizer to the highlights"
   ]
  },
  {
   "cell_type": "code",
   "execution_count": 40,
   "id": "00578057",
   "metadata": {},
   "outputs": [],
   "source": [
    "tfidf_vectorizer_3 = TfidfVectorizer(max_df=0.95, max_features=100000,\n",
    "                                   min_df=0.05, stop_words=cleaned_stopwords,\n",
    "                                   use_idf=True, tokenizer=tokenize_and_stem, ngram_range=(1,3))\n",
    "\n",
    "tfidf_matrix_3 = tfidf_vectorizer_3.fit_transform(df.clean_article) #fit the vectorizer to the articles\n",
    "#tfidf_matrix_highlights = tfidf_vectorizer.fit_transform(\n",
    "#    df.clean_highlights) #fit the vectorizer to the highlights"
   ]
  },
  {
   "cell_type": "code",
   "execution_count": 41,
   "id": "79c3d644",
   "metadata": {},
   "outputs": [],
   "source": [
    "tfidf_vectorizer_4 = TfidfVectorizer(max_df=0.95, max_features=100000,\n",
    "                                   min_df=0.05, stop_words=extended_stopwords,\n",
    "                                   use_idf=True, tokenizer=tokenize_and_stem, ngram_range=(1,3))\n",
    "\n",
    "tfidf_matrix_4 = tfidf_vectorizer_4.fit_transform(df.clean_article) #fit the vectorizer to the articles\n",
    "#tfidf_matrix_highlights = tfidf_vectorizer.fit_transform(\n",
    "#    df.clean_highlights) #fit the vectorizer to the highlights"
   ]
  },
  {
   "cell_type": "code",
   "execution_count": 42,
   "id": "f0cc3aa4",
   "metadata": {},
   "outputs": [
    {
     "name": "stdout",
     "output_type": "stream",
     "text": [
      "(11490, 970)\n",
      "(11490, 948)\n"
     ]
    }
   ],
   "source": [
    "#print(tfidf_matrix_1.shape)\n",
    "#print(tfidf_matrix_2.shape)\n",
    "print(tfidf_matrix_3.shape)\n",
    "print(tfidf_matrix_4.shape)"
   ]
  },
  {
   "cell_type": "code",
   "execution_count": null,
   "id": "dd133302",
   "metadata": {},
   "outputs": [],
   "source": []
  },
  {
   "cell_type": "code",
   "execution_count": null,
   "id": "d3f3a949",
   "metadata": {},
   "outputs": [],
   "source": [
    "terms = tfidf_vectorizer_4.get_feature_names_out()\n",
    "#dist = 1 - cosine_similarity(tfidf_matrix_4)\n",
    "\n",
    "num_clusters = [6]\n",
    "for cluster_num in num_clusters:\n",
    "    km = KMeans(n_clusters=cluster_num)\n",
    "    km.fit(tfidf_matrix_4)\n",
    "    clusters = km.labels_.tolist()\n",
    "\n",
    "    articles = {\"article\": df.article,\n",
    "                \"highlights\": df.highlights,\n",
    "                \"clean_article\": df.clean_article,\n",
    "                \"clean_highlights\": df.clean_highlights,\n",
    "                \"cluster\": clusters,\n",
    "                \"id\": df.id}\n",
    "\n",
    "    frame = pd.DataFrame(articles, index = [clusters],\n",
    "                         columns = ['article', 'highlights',\n",
    "                                    'clean_article', 'clean_highlights',\n",
    "                                    'cluster', 'id'])\n",
    "    \n",
    "    import sys\n",
    "\n",
    "    original_stdout = sys.stdout # Save a reference to the original standard output\n",
    "\n",
    "    with open(f\"Cluster_{cluster_num}.txt\", 'w') as f:\n",
    "        sys.stdout = f # Change the standard output to the file we created.\n",
    "        print('This message will be written to a file.')\n",
    "\n",
    "\n",
    "        print(\"Top terms per cluster:\")\n",
    "        print()\n",
    "\n",
    "        order_centroids = km.cluster_centers_.argsort()[:, ::-1] \n",
    "\n",
    "        for i in range(cluster_num):\n",
    "            print(f\"Cluster {i} words:\")\n",
    "\n",
    "            for ind in order_centroids[i, :10]:\n",
    "                if terms[ind] in vocab_frame.index:\n",
    "                    print(f\"{vocab_frame.loc[terms[ind]].values.tolist()[0][0]}\", end = '')\n",
    "                else:\n",
    "                    print(f\"KEYERROR: '{terms[ind]}' not in vocab index\", end='')\n",
    "\n",
    "                if ind != 10:\n",
    "                    print(\", \", end='')\n",
    "            print()\n",
    "            print()\n",
    "        sys.stdout = original_stdout # Reset the standard output to its original value"
   ]
  },
  {
   "cell_type": "code",
   "execution_count": 43,
   "id": "2146a88d",
   "metadata": {},
   "outputs": [],
   "source": [
    "def find_optimal_clusters(data, max_k, title):\n",
    "    iters = range(2, max_k+1, 4)\n",
    "    \n",
    "    sse = []\n",
    "    for k in iters:\n",
    "        sse.append(MiniBatchKMeans(n_clusters=k, init_size=1024, batch_size=2048, random_state=20).fit(data).inertia_)\n",
    "        print('Fit {} clusters'.format(k))\n",
    "        \n",
    "    f, ax = plt.subplots(1, 1)\n",
    "    ax.plot(iters, sse, marker='o')\n",
    "    ax.set_xlabel('Cluster Centers')\n",
    "    ax.set_yticks(range(4000, 16000, 500))\n",
    "    ax.set_xticks(range(2, max_k, 24))\n",
    "    ax.set_xticklabels(range(2, max_k, 24))\n",
    "    ax.set_ylabel('SSE')\n",
    "    ax.set_title('SSE by Cluster Center Plot' + \"\\n\" + title)\n",
    "    plt.savefig(title+\".png\")"
   ]
  },
  {
   "cell_type": "code",
   "execution_count": 45,
   "id": "810f80e4",
   "metadata": {},
   "outputs": [
    {
     "name": "stdout",
     "output_type": "stream",
     "text": [
      "Fit 2 clusters\n",
      "Fit 6 clusters\n",
      "Fit 10 clusters\n",
      "Fit 14 clusters\n",
      "Fit 18 clusters\n",
      "Fit 22 clusters\n",
      "Fit 26 clusters\n",
      "Fit 30 clusters\n",
      "Fit 34 clusters\n",
      "Fit 38 clusters\n",
      "Fit 42 clusters\n",
      "Fit 46 clusters\n",
      "Fit 50 clusters\n",
      "Fit 54 clusters\n",
      "Fit 58 clusters\n",
      "Fit 62 clusters\n",
      "Fit 66 clusters\n",
      "Fit 70 clusters\n",
      "Fit 74 clusters\n",
      "Fit 78 clusters\n",
      "Fit 82 clusters\n",
      "Fit 86 clusters\n",
      "Fit 90 clusters\n",
      "Fit 94 clusters\n",
      "Fit 98 clusters\n",
      "Fit 102 clusters\n",
      "Fit 106 clusters\n",
      "Fit 110 clusters\n",
      "Fit 114 clusters\n",
      "Fit 118 clusters\n",
      "Fit 122 clusters\n",
      "Fit 126 clusters\n",
      "Fit 130 clusters\n",
      "Fit 134 clusters\n",
      "Fit 138 clusters\n",
      "Fit 142 clusters\n",
      "Fit 146 clusters\n",
      "Fit 150 clusters\n",
      "Fit 154 clusters\n",
      "Fit 158 clusters\n",
      "Fit 162 clusters\n",
      "Fit 166 clusters\n",
      "Fit 170 clusters\n",
      "Fit 174 clusters\n",
      "Fit 178 clusters\n",
      "Fit 182 clusters\n",
      "Fit 186 clusters\n",
      "Fit 190 clusters\n",
      "Fit 194 clusters\n",
      "Fit 198 clusters\n",
      "Fit 202 clusters\n",
      "Fit 206 clusters\n",
      "Fit 210 clusters\n",
      "Fit 214 clusters\n",
      "Fit 218 clusters\n",
      "Fit 222 clusters\n",
      "Fit 226 clusters\n",
      "Fit 230 clusters\n",
      "Fit 234 clusters\n",
      "Fit 238 clusters\n",
      "Fit 242 clusters\n",
      "Fit 246 clusters\n",
      "Fit 250 clusters\n",
      "Fit 2 clusters\n",
      "Fit 6 clusters\n",
      "Fit 10 clusters\n",
      "Fit 14 clusters\n",
      "Fit 18 clusters\n",
      "Fit 22 clusters\n",
      "Fit 26 clusters\n",
      "Fit 30 clusters\n",
      "Fit 34 clusters\n",
      "Fit 38 clusters\n",
      "Fit 42 clusters\n",
      "Fit 46 clusters\n",
      "Fit 50 clusters\n",
      "Fit 54 clusters\n",
      "Fit 58 clusters\n",
      "Fit 62 clusters\n",
      "Fit 66 clusters\n",
      "Fit 70 clusters\n",
      "Fit 74 clusters\n",
      "Fit 78 clusters\n",
      "Fit 82 clusters\n",
      "Fit 86 clusters\n",
      "Fit 90 clusters\n",
      "Fit 94 clusters\n",
      "Fit 98 clusters\n",
      "Fit 102 clusters\n",
      "Fit 106 clusters\n",
      "Fit 110 clusters\n",
      "Fit 114 clusters\n",
      "Fit 118 clusters\n",
      "Fit 122 clusters\n",
      "Fit 126 clusters\n",
      "Fit 130 clusters\n",
      "Fit 134 clusters\n",
      "Fit 138 clusters\n",
      "Fit 142 clusters\n",
      "Fit 146 clusters\n",
      "Fit 150 clusters\n",
      "Fit 154 clusters\n",
      "Fit 158 clusters\n",
      "Fit 162 clusters\n",
      "Fit 166 clusters\n",
      "Fit 170 clusters\n",
      "Fit 174 clusters\n",
      "Fit 178 clusters\n",
      "Fit 182 clusters\n",
      "Fit 186 clusters\n",
      "Fit 190 clusters\n",
      "Fit 194 clusters\n",
      "Fit 198 clusters\n",
      "Fit 202 clusters\n",
      "Fit 206 clusters\n",
      "Fit 210 clusters\n",
      "Fit 214 clusters\n",
      "Fit 218 clusters\n",
      "Fit 222 clusters\n",
      "Fit 226 clusters\n",
      "Fit 230 clusters\n",
      "Fit 234 clusters\n",
      "Fit 238 clusters\n",
      "Fit 242 clusters\n",
      "Fit 246 clusters\n",
      "Fit 250 clusters\n"
     ]
    },
    {
     "data": {
      "image/png": "[encoded data removed]",
      "text/plain": [
       "<Figure size 432x288 with 1 Axes>"
      ]
     },
     "metadata": {
      "needs_background": "light"
     },
     "output_type": "display_data"
    },
    {
     "data": {
      "image/png": "[encoded data removed]",
      "text/plain": [
       "<Figure size 432x288 with 1 Axes>"
      ]
     },
     "metadata": {
      "needs_background": "light"
     },
     "output_type": "display_data"
    }
   ],
   "source": [
    "titles =  [\"Small Stop Words, 95-5, 100000 features\",\n",
    "          \"Large Stop Words, 95-5, 100000 features\"]\n",
    "#[\"Small Stop Words, 80-20, 200000 features\",\n",
    "          #\"Small Stop Words, 95-5, 200000 features\",\n",
    "\n",
    "tfidfs = [tfidf_matrix_3, tfidf_matrix_4] # [tfidf_matrix_1, tfidf_matrix_2, \n",
    "\n",
    "for title, tfidf_matrix in zip(titles, tfidfs):\n",
    "    find_optimal_clusters(tfidf_matrix, 250, title)"
   ]
  },
  {
   "cell_type": "code",
   "execution_count": 46,
   "id": "5b8161f4",
   "metadata": {},
   "outputs": [
    {
     "ename": "NameError",
     "evalue": "name 'build_cluster' is not defined",
     "output_type": "error",
     "traceback": [
      "\u001b[1;31m---------------------------------------------------------------------------\u001b[0m",
      "\u001b[1;31mNameError\u001b[0m                                 Traceback (most recent call last)",
      "\u001b[1;32m~\\AppData\\Local\\Temp/ipykernel_19380/339029827.py\u001b[0m in \u001b[0;36m<module>\u001b[1;34m\u001b[0m\n\u001b[1;32m----> 1\u001b[1;33m \u001b[0mbuild_cluster\u001b[0m\u001b[1;33m(\u001b[0m\u001b[0mtfidf_matrix_4\u001b[0m\u001b[1;33m,\u001b[0m \u001b[0mtfidf_vectorizer_4\u001b[0m\u001b[1;33m)\u001b[0m\u001b[1;33m\u001b[0m\u001b[1;33m\u001b[0m\u001b[0m\n\u001b[0m",
      "\u001b[1;31mNameError\u001b[0m: name 'build_cluster' is not defined"
     ]
    }
   ],
   "source": [
    "build_cluster(tfidf_matrix_4, tfidf_vectorizer_4)"
   ]
  },
  {
   "cell_type": "code",
   "execution_count": 108,
   "id": "9fed72e7",
   "metadata": {},
   "outputs": [
    {
     "name": "stdout",
     "output_type": "stream",
     "text": [
      "Fit 2 clusters\n",
      "Fit 6 clusters\n",
      "Fit 10 clusters\n",
      "Fit 14 clusters\n",
      "Fit 18 clusters\n",
      "Fit 22 clusters\n",
      "Fit 26 clusters\n",
      "Fit 30 clusters\n",
      "Fit 34 clusters\n",
      "Fit 38 clusters\n",
      "Fit 42 clusters\n",
      "Fit 46 clusters\n",
      "Fit 50 clusters\n",
      "Fit 54 clusters\n",
      "Fit 58 clusters\n",
      "Fit 62 clusters\n",
      "Fit 66 clusters\n",
      "Fit 70 clusters\n",
      "Fit 74 clusters\n",
      "Fit 78 clusters\n",
      "Fit 82 clusters\n",
      "Fit 86 clusters\n",
      "Fit 90 clusters\n",
      "Fit 94 clusters\n",
      "Fit 98 clusters\n",
      "Fit 102 clusters\n",
      "Fit 106 clusters\n",
      "Fit 110 clusters\n",
      "Fit 114 clusters\n",
      "Fit 118 clusters\n",
      "Fit 122 clusters\n",
      "Fit 126 clusters\n",
      "Fit 130 clusters\n",
      "Fit 134 clusters\n",
      "Fit 138 clusters\n",
      "Fit 142 clusters\n",
      "Fit 146 clusters\n",
      "Fit 150 clusters\n",
      "Fit 154 clusters\n",
      "Fit 158 clusters\n",
      "Fit 162 clusters\n",
      "Fit 166 clusters\n",
      "Fit 170 clusters\n",
      "Fit 174 clusters\n",
      "Fit 178 clusters\n",
      "Fit 182 clusters\n",
      "Fit 186 clusters\n",
      "Fit 190 clusters\n",
      "Fit 194 clusters\n",
      "Fit 198 clusters\n",
      "Fit 202 clusters\n",
      "Fit 206 clusters\n",
      "Fit 210 clusters\n",
      "Fit 214 clusters\n",
      "Fit 218 clusters\n",
      "Fit 222 clusters\n",
      "Fit 226 clusters\n",
      "Fit 230 clusters\n",
      "Fit 234 clusters\n",
      "Fit 238 clusters\n",
      "Fit 242 clusters\n",
      "Fit 246 clusters\n",
      "Fit 250 clusters\n"
     ]
    },
    {
     "data": {
      "image/png": "[encoded data removed]",
      "text/plain": [
       "<Figure size 432x288 with 1 Axes>"
      ]
     },
     "metadata": {
      "needs_background": "light"
     },
     "output_type": "display_data"
    }
   ],
   "source": [
    "find_optimal_clusters(tfidf_matrix, 250)"
   ]
  },
  {
   "cell_type": "code",
   "execution_count": 114,
   "id": "f555f60e",
   "metadata": {},
   "outputs": [
    {
     "name": "stdout",
     "output_type": "stream",
     "text": [
      "Fit 2 clusters\n",
      "Fit 6 clusters\n",
      "Fit 10 clusters\n",
      "Fit 14 clusters\n",
      "Fit 18 clusters\n",
      "Fit 22 clusters\n",
      "Fit 26 clusters\n",
      "Fit 30 clusters\n",
      "Fit 34 clusters\n",
      "Fit 38 clusters\n",
      "Fit 42 clusters\n",
      "Fit 46 clusters\n",
      "Fit 50 clusters\n",
      "Fit 54 clusters\n",
      "Fit 58 clusters\n",
      "Fit 62 clusters\n",
      "Fit 66 clusters\n",
      "Fit 70 clusters\n",
      "Fit 74 clusters\n",
      "Fit 78 clusters\n",
      "Fit 82 clusters\n",
      "Fit 86 clusters\n",
      "Fit 90 clusters\n",
      "Fit 94 clusters\n",
      "Fit 98 clusters\n",
      "Fit 102 clusters\n",
      "Fit 106 clusters\n",
      "Fit 110 clusters\n",
      "Fit 114 clusters\n",
      "Fit 118 clusters\n",
      "Fit 122 clusters\n",
      "Fit 126 clusters\n",
      "Fit 130 clusters\n",
      "Fit 134 clusters\n",
      "Fit 138 clusters\n",
      "Fit 142 clusters\n",
      "Fit 146 clusters\n",
      "Fit 150 clusters\n",
      "Fit 154 clusters\n",
      "Fit 158 clusters\n",
      "Fit 162 clusters\n",
      "Fit 166 clusters\n",
      "Fit 170 clusters\n",
      "Fit 174 clusters\n",
      "Fit 178 clusters\n",
      "Fit 182 clusters\n",
      "Fit 186 clusters\n",
      "Fit 190 clusters\n",
      "Fit 194 clusters\n",
      "Fit 198 clusters\n",
      "Fit 202 clusters\n",
      "Fit 206 clusters\n",
      "Fit 210 clusters\n",
      "Fit 214 clusters\n",
      "Fit 218 clusters\n",
      "Fit 222 clusters\n",
      "Fit 226 clusters\n",
      "Fit 230 clusters\n",
      "Fit 234 clusters\n",
      "Fit 238 clusters\n",
      "Fit 242 clusters\n",
      "Fit 246 clusters\n",
      "Fit 250 clusters\n"
     ]
    },
    {
     "data": {
      "image/png": "[encoded data removed]",
      "text/plain": [
       "<Figure size 432x288 with 1 Axes>"
      ]
     },
     "metadata": {
      "needs_background": "light"
     },
     "output_type": "display_data"
    }
   ],
   "source": [
    "find_optimal_clusters(tfidf_matrix, 250)"
   ]
  },
  {
   "cell_type": "code",
   "execution_count": 113,
   "id": "1e131057",
   "metadata": {},
   "outputs": [],
   "source": [
    "#find_optimal_clusters(tfidf_matrix_highlights, 250)"
   ]
  },
  {
   "cell_type": "code",
   "execution_count": null,
   "id": "07c9dffc",
   "metadata": {},
   "outputs": [],
   "source": [
    "def generate_word_clouds(df, name):\n",
    "    \"\"\"generates and saves a word cloud of every cluster\"\"\""
   ]
  }
 ],
 "metadata": {
  "kernelspec": {
   "display_name": "Python 3 (ipykernel)",
   "language": "python",
   "name": "python3"
  },
  "language_info": {
   "codemirror_mode": {
    "name": "ipython",
    "version": 3
   },
   "file_extension": ".py",
   "mimetype": "text/x-python",
   "name": "python",
   "nbconvert_exporter": "python",
   "pygments_lexer": "ipython3",
   "version": "3.9.7"
  }
 },
 "nbformat": 4,
 "nbformat_minor": 5
}
