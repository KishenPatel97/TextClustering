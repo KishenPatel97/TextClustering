{
 "cells": [
  {
   "cell_type": "code",
   "execution_count": 31,
   "id": "90b79940",
   "metadata": {},
   "outputs": [],
   "source": [
    "from datasets import load_dataset\n",
    "import spacy\n",
    "\n",
    "from pathlib import Path\n",
    "from os import listdir\n",
    "from os.path import isfile, join\n",
    "import os"
   ]
  },
  {
   "cell_type": "code",
   "execution_count": 17,
   "id": "f3f71965",
   "metadata": {},
   "outputs": [],
   "source": [
    "# download stories from here\n",
    "# https://cs.nyu.edu/~kcho/DMQA/\n",
    "\n",
    "# 114 out of over 300,000 stories are missing text\n",
    "\n",
    "# makes datafiles from this code\n",
    "# https://github.com/becxer/cnn-dailymail/blob/master/make_datafiles.py"
   ]
  },
  {
   "cell_type": "code",
   "execution_count": 32,
   "id": "4e84eaa1",
   "metadata": {},
   "outputs": [
    {
     "ename": "OSError",
     "evalue": "Not enough disk space. Needed: 1.82 GiB (download: 558.32 MiB, generated: 1.28 GiB, post-processed: Unknown size)",
     "output_type": "error",
     "traceback": [
      "\u001b[1;31m---------------------------------------------------------------------------\u001b[0m",
      "\u001b[1;31mOSError\u001b[0m                                   Traceback (most recent call last)",
      "\u001b[1;32m~\\AppData\\Local\\Temp/ipykernel_1520/2690145124.py\u001b[0m in \u001b[0;36m<module>\u001b[1;34m\u001b[0m\n\u001b[0;32m      2\u001b[0m \u001b[1;31m# type this command in the command line for the venv for this cell to work\u001b[0m\u001b[1;33m\u001b[0m\u001b[1;33m\u001b[0m\u001b[0m\n\u001b[0;32m      3\u001b[0m \u001b[1;31m# jupyter nbextension enable --py widgetsnbextension --sys-prefix\u001b[0m\u001b[1;33m\u001b[0m\u001b[1;33m\u001b[0m\u001b[0m\n\u001b[1;32m----> 4\u001b[1;33m \u001b[0mdataset\u001b[0m \u001b[1;33m=\u001b[0m \u001b[0mload_dataset\u001b[0m\u001b[1;33m(\u001b[0m\u001b[1;34m'cnn_dailymail'\u001b[0m\u001b[1;33m,\u001b[0m \u001b[1;34m'3.0.0'\u001b[0m\u001b[1;33m)\u001b[0m\u001b[1;33m\u001b[0m\u001b[1;33m\u001b[0m\u001b[0m\n\u001b[0m",
      "\u001b[1;32m~\\Documents\\GitHub\\TextClustering\\env\\lib\\site-packages\\datasets\\load.py\u001b[0m in \u001b[0;36mload_dataset\u001b[1;34m(path, name, data_dir, data_files, split, cache_dir, features, download_config, download_mode, ignore_verifications, keep_in_memory, save_infos, script_version, use_auth_token, task, streaming, **config_kwargs)\u001b[0m\n\u001b[0;32m   1110\u001b[0m \u001b[1;33m\u001b[0m\u001b[0m\n\u001b[0;32m   1111\u001b[0m     \u001b[1;31m# Download and prepare data\u001b[0m\u001b[1;33m\u001b[0m\u001b[1;33m\u001b[0m\u001b[0m\n\u001b[1;32m-> 1112\u001b[1;33m     builder_instance.download_and_prepare(\n\u001b[0m\u001b[0;32m   1113\u001b[0m         \u001b[0mdownload_config\u001b[0m\u001b[1;33m=\u001b[0m\u001b[0mdownload_config\u001b[0m\u001b[1;33m,\u001b[0m\u001b[1;33m\u001b[0m\u001b[1;33m\u001b[0m\u001b[0m\n\u001b[0;32m   1114\u001b[0m         \u001b[0mdownload_mode\u001b[0m\u001b[1;33m=\u001b[0m\u001b[0mdownload_mode\u001b[0m\u001b[1;33m,\u001b[0m\u001b[1;33m\u001b[0m\u001b[1;33m\u001b[0m\u001b[0m\n",
      "\u001b[1;32m~\\Documents\\GitHub\\TextClustering\\env\\lib\\site-packages\\datasets\\builder.py\u001b[0m in \u001b[0;36mdownload_and_prepare\u001b[1;34m(self, download_config, download_mode, ignore_verifications, try_from_hf_gcs, dl_manager, base_path, use_auth_token, **download_and_prepare_kwargs)\u001b[0m\n\u001b[0;32m    575\u001b[0m             \u001b[1;32mif\u001b[0m \u001b[1;32mnot\u001b[0m \u001b[0mis_remote_url\u001b[0m\u001b[1;33m(\u001b[0m\u001b[0mself\u001b[0m\u001b[1;33m.\u001b[0m\u001b[0m_cache_dir_root\u001b[0m\u001b[1;33m)\u001b[0m\u001b[1;33m:\u001b[0m  \u001b[1;31m# if cache dir is local, check for available space\u001b[0m\u001b[1;33m\u001b[0m\u001b[1;33m\u001b[0m\u001b[0m\n\u001b[0;32m    576\u001b[0m                 \u001b[1;32mif\u001b[0m \u001b[1;32mnot\u001b[0m \u001b[0mutils\u001b[0m\u001b[1;33m.\u001b[0m\u001b[0mhas_sufficient_disk_space\u001b[0m\u001b[1;33m(\u001b[0m\u001b[0mself\u001b[0m\u001b[1;33m.\u001b[0m\u001b[0minfo\u001b[0m\u001b[1;33m.\u001b[0m\u001b[0msize_in_bytes\u001b[0m \u001b[1;32mor\u001b[0m \u001b[1;36m0\u001b[0m\u001b[1;33m,\u001b[0m \u001b[0mdirectory\u001b[0m\u001b[1;33m=\u001b[0m\u001b[0mself\u001b[0m\u001b[1;33m.\u001b[0m\u001b[0m_cache_dir_root\u001b[0m\u001b[1;33m)\u001b[0m\u001b[1;33m:\u001b[0m\u001b[1;33m\u001b[0m\u001b[1;33m\u001b[0m\u001b[0m\n\u001b[1;32m--> 577\u001b[1;33m                     raise IOError(\n\u001b[0m\u001b[0;32m    578\u001b[0m                         \"Not enough disk space. Needed: {} (download: {}, generated: {}, post-processed: {})\".format(\n\u001b[0;32m    579\u001b[0m                             \u001b[0mutils\u001b[0m\u001b[1;33m.\u001b[0m\u001b[0msize_str\u001b[0m\u001b[1;33m(\u001b[0m\u001b[0mself\u001b[0m\u001b[1;33m.\u001b[0m\u001b[0minfo\u001b[0m\u001b[1;33m.\u001b[0m\u001b[0msize_in_bytes\u001b[0m \u001b[1;32mor\u001b[0m \u001b[1;36m0\u001b[0m\u001b[1;33m)\u001b[0m\u001b[1;33m,\u001b[0m\u001b[1;33m\u001b[0m\u001b[1;33m\u001b[0m\u001b[0m\n",
      "\u001b[1;31mOSError\u001b[0m: Not enough disk space. Needed: 1.82 GiB (download: 558.32 MiB, generated: 1.28 GiB, post-processed: Unknown size)"
     ]
    }
   ],
   "source": [
    "# \"\"\"Load the dataset using huggingface data_loader\"\"\"\n",
    "# type this command in the command line for the venv for this cell to work\n",
    "# jupyter nbextension enable --py widgetsnbextension --sys-prefix \n",
    "dataset = load_dataset('cnn_dailymail', '3.0.0')"
   ]
  },
  {
   "cell_type": "code",
   "execution_count": 27,
   "id": "08d81cdc",
   "metadata": {},
   "outputs": [],
   "source": [
    "# CNN_STORIES_PATH = Path(\"D:/__School/__Masters/____2021fALL/5290 nlp/stories/cnn/stories\")\n",
    "# DM_STORIES_PATH = Path(\"D:/__School/__Masters/____2021fALL/5290 nlp/stories/dailymail/stories\")"
   ]
  },
  {
   "cell_type": "code",
   "execution_count": 26,
   "id": "e7172b6a",
   "metadata": {},
   "outputs": [],
   "source": [
    "# def grab_files(directory):\n",
    "#     for name in os.listdir(directory):\n",
    "#        full_path = os.path.join(directory, name)\n",
    "#        if os.path.isdir(full_path):\n",
    "#            for entry in grab_files(full_path):\n",
    "#                yield entry\n",
    "#        elif os.path.isfile(full_path):\n",
    "#            yield full_path\n",
    "#        else:\n",
    "#            print('Unidentified name %s. It could be a symbolic link' % full_path)"
   ]
  },
  {
   "cell_type": "code",
   "execution_count": 28,
   "id": "b920d51c",
   "metadata": {},
   "outputs": [],
   "source": [
    "#i = 0\n",
    "#for file in grab_files(CNN_STORIES_PATH):\n",
    "#    i+=1\n",
    "#    print(file)\n",
    "#    if i == 5:\n",
    "#        break"
   ]
  },
  {
   "cell_type": "code",
   "execution_count": 29,
   "id": "9b33d487",
   "metadata": {},
   "outputs": [],
   "source": [
    "#f = open(CNN_STORIES_PATH.joinpath(\"0001d1afc246a7964130f43ae940af6bc6c57f01.story\"), \"r\")\n",
    "#print(f.read())"
   ]
  },
  {
   "cell_type": "code",
   "execution_count": 30,
   "id": "69eae526",
   "metadata": {},
   "outputs": [],
   "source": [
    "#f = open(CNN_STORIES_PATH.joinpath(\"0002095e55fcbd3a2f366d9bf92a95433dc305ef.story\"), \"r\")\n",
    "#print(f.read())"
   ]
  },
  {
   "cell_type": "code",
   "execution_count": null,
   "id": "b96acb2c",
   "metadata": {},
   "outputs": [],
   "source": []
  }
 ],
 "metadata": {
  "kernelspec": {
   "display_name": "Python 3 (ipykernel)",
   "language": "python",
   "name": "python3"
  },
  "language_info": {
   "codemirror_mode": {
    "name": "ipython",
    "version": 3
   },
   "file_extension": ".py",
   "mimetype": "text/x-python",
   "name": "python",
   "nbconvert_exporter": "python",
   "pygments_lexer": "ipython3",
   "version": "3.9.7"
  }
 },
 "nbformat": 4,
 "nbformat_minor": 5
}
