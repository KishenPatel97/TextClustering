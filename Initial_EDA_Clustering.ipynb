{
  "nbformat": 4,
  "nbformat_minor": 5,
  "metadata": {
    "kernelspec": {
      "display_name": "Python 3 (ipykernel)",
      "language": "python",
      "name": "python3"
    },
    "language_info": {
      "codemirror_mode": {
        "name": "ipython",
        "version": 3
      },
      "file_extension": ".py",
      "mimetype": "text/x-python",
      "name": "python",
      "nbconvert_exporter": "python",
      "pygments_lexer": "ipython3",
      "version": "3.9.7"
    },
    "colab": {
      "name": "Initial_EDA_Clustering.ipynb",
      "provenance": [],
      "include_colab_link": true
    },
    "widgets": {
      "application/vnd.jupyter.widget-state+json": {
        "8fe67cf53118493da4fbf57fc22e21f9": {
          "model_module": "@jupyter-widgets/controls",
          "model_name": "HBoxModel",
          "model_module_version": "1.5.0",
          "state": {
            "_view_name": "HBoxView",
            "_dom_classes": [],
            "_model_name": "HBoxModel",
            "_view_module": "@jupyter-widgets/controls",
            "_model_module_version": "1.5.0",
            "_view_count": null,
            "_view_module_version": "1.5.0",
            "box_style": "",
            "layout": "IPY_MODEL_26fb7a86efbd4320bddac9ef0b48a051",
            "_model_module": "@jupyter-widgets/controls",
            "children": [
              "IPY_MODEL_4c4d5498eeb74188aadaacaa318a70b1",
              "IPY_MODEL_96b7cb0b6d57407880dcf96c1c6a101f",
              "IPY_MODEL_1f84deaf71184b288cb11376516caf77"
            ]
          }
        },
        "26fb7a86efbd4320bddac9ef0b48a051": {
          "model_module": "@jupyter-widgets/base",
          "model_name": "LayoutModel",
          "model_module_version": "1.2.0",
          "state": {
            "_view_name": "LayoutView",
            "grid_template_rows": null,
            "right": null,
            "justify_content": null,
            "_view_module": "@jupyter-widgets/base",
            "overflow": null,
            "_model_module_version": "1.2.0",
            "_view_count": null,
            "flex_flow": null,
            "width": null,
            "min_width": null,
            "border": null,
            "align_items": null,
            "bottom": null,
            "_model_module": "@jupyter-widgets/base",
            "top": null,
            "grid_column": null,
            "overflow_y": null,
            "overflow_x": null,
            "grid_auto_flow": null,
            "grid_area": null,
            "grid_template_columns": null,
            "flex": null,
            "_model_name": "LayoutModel",
            "justify_items": null,
            "grid_row": null,
            "max_height": null,
            "align_content": null,
            "visibility": null,
            "align_self": null,
            "height": null,
            "min_height": null,
            "padding": null,
            "grid_auto_rows": null,
            "grid_gap": null,
            "max_width": null,
            "order": null,
            "_view_module_version": "1.2.0",
            "grid_template_areas": null,
            "object_position": null,
            "object_fit": null,
            "grid_auto_columns": null,
            "margin": null,
            "display": null,
            "left": null
          }
        },
        "4c4d5498eeb74188aadaacaa318a70b1": {
          "model_module": "@jupyter-widgets/controls",
          "model_name": "HTMLModel",
          "model_module_version": "1.5.0",
          "state": {
            "_view_name": "HTMLView",
            "style": "IPY_MODEL_50f46a5ef5ce40dc86cdc32924e8aa73",
            "_dom_classes": [],
            "description": "",
            "_model_name": "HTMLModel",
            "placeholder": "​",
            "_view_module": "@jupyter-widgets/controls",
            "_model_module_version": "1.5.0",
            "value": "100%",
            "_view_count": null,
            "_view_module_version": "1.5.0",
            "description_tooltip": null,
            "_model_module": "@jupyter-widgets/controls",
            "layout": "IPY_MODEL_94d2c1112e6d47c5bf827ae2e719e3e8"
          }
        },
        "96b7cb0b6d57407880dcf96c1c6a101f": {
          "model_module": "@jupyter-widgets/controls",
          "model_name": "FloatProgressModel",
          "model_module_version": "1.5.0",
          "state": {
            "_view_name": "ProgressView",
            "style": "IPY_MODEL_4dc324689a0b457781207b24fbf6e22a",
            "_dom_classes": [],
            "description": "",
            "_model_name": "FloatProgressModel",
            "bar_style": "success",
            "max": 3,
            "_view_module": "@jupyter-widgets/controls",
            "_model_module_version": "1.5.0",
            "value": 3,
            "_view_count": null,
            "_view_module_version": "1.5.0",
            "orientation": "horizontal",
            "min": 0,
            "description_tooltip": null,
            "_model_module": "@jupyter-widgets/controls",
            "layout": "IPY_MODEL_6f3885f65b3740628a6eb110e4f1cb89"
          }
        },
        "1f84deaf71184b288cb11376516caf77": {
          "model_module": "@jupyter-widgets/controls",
          "model_name": "HTMLModel",
          "model_module_version": "1.5.0",
          "state": {
            "_view_name": "HTMLView",
            "style": "IPY_MODEL_850647f2d4504ef08a4c1d8979678d73",
            "_dom_classes": [],
            "description": "",
            "_model_name": "HTMLModel",
            "placeholder": "​",
            "_view_module": "@jupyter-widgets/controls",
            "_model_module_version": "1.5.0",
            "value": " 3/3 [00:01&lt;00:00,  1.90s/it]",
            "_view_count": null,
            "_view_module_version": "1.5.0",
            "description_tooltip": null,
            "_model_module": "@jupyter-widgets/controls",
            "layout": "IPY_MODEL_26b05220b5ae4312858b278682da73d6"
          }
        },
        "50f46a5ef5ce40dc86cdc32924e8aa73": {
          "model_module": "@jupyter-widgets/controls",
          "model_name": "DescriptionStyleModel",
          "model_module_version": "1.5.0",
          "state": {
            "_view_name": "StyleView",
            "_model_name": "DescriptionStyleModel",
            "description_width": "",
            "_view_module": "@jupyter-widgets/base",
            "_model_module_version": "1.5.0",
            "_view_count": null,
            "_view_module_version": "1.2.0",
            "_model_module": "@jupyter-widgets/controls"
          }
        },
        "94d2c1112e6d47c5bf827ae2e719e3e8": {
          "model_module": "@jupyter-widgets/base",
          "model_name": "LayoutModel",
          "model_module_version": "1.2.0",
          "state": {
            "_view_name": "LayoutView",
            "grid_template_rows": null,
            "right": null,
            "justify_content": null,
            "_view_module": "@jupyter-widgets/base",
            "overflow": null,
            "_model_module_version": "1.2.0",
            "_view_count": null,
            "flex_flow": null,
            "width": null,
            "min_width": null,
            "border": null,
            "align_items": null,
            "bottom": null,
            "_model_module": "@jupyter-widgets/base",
            "top": null,
            "grid_column": null,
            "overflow_y": null,
            "overflow_x": null,
            "grid_auto_flow": null,
            "grid_area": null,
            "grid_template_columns": null,
            "flex": null,
            "_model_name": "LayoutModel",
            "justify_items": null,
            "grid_row": null,
            "max_height": null,
            "align_content": null,
            "visibility": null,
            "align_self": null,
            "height": null,
            "min_height": null,
            "padding": null,
            "grid_auto_rows": null,
            "grid_gap": null,
            "max_width": null,
            "order": null,
            "_view_module_version": "1.2.0",
            "grid_template_areas": null,
            "object_position": null,
            "object_fit": null,
            "grid_auto_columns": null,
            "margin": null,
            "display": null,
            "left": null
          }
        },
        "4dc324689a0b457781207b24fbf6e22a": {
          "model_module": "@jupyter-widgets/controls",
          "model_name": "ProgressStyleModel",
          "model_module_version": "1.5.0",
          "state": {
            "_view_name": "StyleView",
            "_model_name": "ProgressStyleModel",
            "description_width": "",
            "_view_module": "@jupyter-widgets/base",
            "_model_module_version": "1.5.0",
            "_view_count": null,
            "_view_module_version": "1.2.0",
            "bar_color": null,
            "_model_module": "@jupyter-widgets/controls"
          }
        },
        "6f3885f65b3740628a6eb110e4f1cb89": {
          "model_module": "@jupyter-widgets/base",
          "model_name": "LayoutModel",
          "model_module_version": "1.2.0",
          "state": {
            "_view_name": "LayoutView",
            "grid_template_rows": null,
            "right": null,
            "justify_content": null,
            "_view_module": "@jupyter-widgets/base",
            "overflow": null,
            "_model_module_version": "1.2.0",
            "_view_count": null,
            "flex_flow": null,
            "width": null,
            "min_width": null,
            "border": null,
            "align_items": null,
            "bottom": null,
            "_model_module": "@jupyter-widgets/base",
            "top": null,
            "grid_column": null,
            "overflow_y": null,
            "overflow_x": null,
            "grid_auto_flow": null,
            "grid_area": null,
            "grid_template_columns": null,
            "flex": null,
            "_model_name": "LayoutModel",
            "justify_items": null,
            "grid_row": null,
            "max_height": null,
            "align_content": null,
            "visibility": null,
            "align_self": null,
            "height": null,
            "min_height": null,
            "padding": null,
            "grid_auto_rows": null,
            "grid_gap": null,
            "max_width": null,
            "order": null,
            "_view_module_version": "1.2.0",
            "grid_template_areas": null,
            "object_position": null,
            "object_fit": null,
            "grid_auto_columns": null,
            "margin": null,
            "display": null,
            "left": null
          }
        },
        "850647f2d4504ef08a4c1d8979678d73": {
          "model_module": "@jupyter-widgets/controls",
          "model_name": "DescriptionStyleModel",
          "model_module_version": "1.5.0",
          "state": {
            "_view_name": "StyleView",
            "_model_name": "DescriptionStyleModel",
            "description_width": "",
            "_view_module": "@jupyter-widgets/base",
            "_model_module_version": "1.5.0",
            "_view_count": null,
            "_view_module_version": "1.2.0",
            "_model_module": "@jupyter-widgets/controls"
          }
        },
        "26b05220b5ae4312858b278682da73d6": {
          "model_module": "@jupyter-widgets/base",
          "model_name": "LayoutModel",
          "model_module_version": "1.2.0",
          "state": {
            "_view_name": "LayoutView",
            "grid_template_rows": null,
            "right": null,
            "justify_content": null,
            "_view_module": "@jupyter-widgets/base",
            "overflow": null,
            "_model_module_version": "1.2.0",
            "_view_count": null,
            "flex_flow": null,
            "width": null,
            "min_width": null,
            "border": null,
            "align_items": null,
            "bottom": null,
            "_model_module": "@jupyter-widgets/base",
            "top": null,
            "grid_column": null,
            "overflow_y": null,
            "overflow_x": null,
            "grid_auto_flow": null,
            "grid_area": null,
            "grid_template_columns": null,
            "flex": null,
            "_model_name": "LayoutModel",
            "justify_items": null,
            "grid_row": null,
            "max_height": null,
            "align_content": null,
            "visibility": null,
            "align_self": null,
            "height": null,
            "min_height": null,
            "padding": null,
            "grid_auto_rows": null,
            "grid_gap": null,
            "max_width": null,
            "order": null,
            "_view_module_version": "1.2.0",
            "grid_template_areas": null,
            "object_position": null,
            "object_fit": null,
            "grid_auto_columns": null,
            "margin": null,
            "display": null,
            "left": null
          }
        }
      }
    }
  },
  "cells": [
    {
      "cell_type": "markdown",
      "metadata": {
        "id": "view-in-github",
        "colab_type": "text"
      },
      "source": [
        "<a href=\"https://colab.research.google.com/github/KishenPatel97/TextClustering/blob/main/Initial_EDA_Clustering.ipynb\" target=\"_parent\"><img src=\"https://colab.research.google.com/assets/colab-badge.svg\" alt=\"Open In Colab\"/></a>"
      ]
    },
    {
      "cell_type": "markdown",
      "metadata": {
        "id": "3j8NThBSAiDr"
      },
      "source": [
        "# Loading Libraries and Dataset"
      ],
      "id": "3j8NThBSAiDr"
    },
    {
      "cell_type": "code",
      "metadata": {
        "id": "Wkdw1dy1Lgwu"
      },
      "source": [
        "!pip install matplotlib==3.4.3"
      ],
      "id": "Wkdw1dy1Lgwu",
      "execution_count": null,
      "outputs": []
    },
    {
      "cell_type": "code",
      "metadata": {
        "id": "-JY4iWn5mm78"
      },
      "source": [
        "!pip install datasets"
      ],
      "id": "-JY4iWn5mm78",
      "execution_count": null,
      "outputs": []
    },
    {
      "cell_type": "code",
      "metadata": {
        "id": "90b79940"
      },
      "source": [
        "from datasets import load_dataset\n",
        "import spacy\n",
        "\n",
        "from pathlib import Path\n",
        "from os import listdir\n",
        "from os.path import isfile, join\n",
        "import os"
      ],
      "id": "90b79940",
      "execution_count": 3,
      "outputs": []
    },
    {
      "cell_type": "code",
      "metadata": {
        "id": "f3f71965"
      },
      "source": [
        "# download stories from here\n",
        "# https://cs.nyu.edu/~kcho/DMQA/\n",
        "\n",
        "# 114 out of over 300,000 stories are missing text\n",
        "\n",
        "# makes datafiles from this code\n",
        "# https://github.com/becxer/cnn-dailymail/blob/master/make_datafiles.py"
      ],
      "id": "f3f71965",
      "execution_count": null,
      "outputs": []
    },
    {
      "cell_type": "code",
      "metadata": {
        "colab": {
          "base_uri": "https://localhost:8080/",
          "height": 67,
          "referenced_widgets": [
            "8fe67cf53118493da4fbf57fc22e21f9",
            "26fb7a86efbd4320bddac9ef0b48a051",
            "4c4d5498eeb74188aadaacaa318a70b1",
            "96b7cb0b6d57407880dcf96c1c6a101f",
            "1f84deaf71184b288cb11376516caf77",
            "50f46a5ef5ce40dc86cdc32924e8aa73",
            "94d2c1112e6d47c5bf827ae2e719e3e8",
            "4dc324689a0b457781207b24fbf6e22a",
            "6f3885f65b3740628a6eb110e4f1cb89",
            "850647f2d4504ef08a4c1d8979678d73",
            "26b05220b5ae4312858b278682da73d6"
          ]
        },
        "id": "4e84eaa1",
        "outputId": "52859aac-76c5-42db-9f32-4715315e155e"
      },
      "source": [
        "# \"\"\"Load the dataset using huggingface data_loader\"\"\"\n",
        "# type this command in the command line for the venv for this cell to work\n",
        "# jupyter nbextension enable --py widgetsnbextension --sys-prefix \n",
        "dataset = load_dataset('cnn_dailymail', '3.0.0')"
      ],
      "id": "4e84eaa1",
      "execution_count": 4,
      "outputs": [
        {
          "output_type": "stream",
          "name": "stderr",
          "text": [
            "Reusing dataset cnn_dailymail (/root/.cache/huggingface/datasets/cnn_dailymail/3.0.0/3.0.0/3cb851bf7cf5826e45d49db2863f627cba583cbc32342df7349dfe6c38060234)\n"
          ]
        },
        {
          "output_type": "display_data",
          "data": {
            "application/vnd.jupyter.widget-view+json": {
              "model_id": "8fe67cf53118493da4fbf57fc22e21f9",
              "version_minor": 0,
              "version_major": 2
            },
            "text/plain": [
              "  0%|          | 0/3 [00:00<?, ?it/s]"
            ]
          },
          "metadata": {}
        }
      ]
    },
    {
      "cell_type": "code",
      "metadata": {
        "colab": {
          "base_uri": "https://localhost:8080/"
        },
        "id": "b96acb2c",
        "outputId": "570ac999-eb49-4081-bc22-e08682d9efab"
      },
      "source": [
        "dataset"
      ],
      "id": "b96acb2c",
      "execution_count": 5,
      "outputs": [
        {
          "output_type": "execute_result",
          "data": {
            "text/plain": [
              "DatasetDict({\n",
              "    train: Dataset({\n",
              "        features: ['article', 'highlights', 'id'],\n",
              "        num_rows: 287113\n",
              "    })\n",
              "    validation: Dataset({\n",
              "        features: ['article', 'highlights', 'id'],\n",
              "        num_rows: 13368\n",
              "    })\n",
              "    test: Dataset({\n",
              "        features: ['article', 'highlights', 'id'],\n",
              "        num_rows: 11490\n",
              "    })\n",
              "})"
            ]
          },
          "metadata": {},
          "execution_count": 5
        }
      ]
    },
    {
      "cell_type": "code",
      "metadata": {
        "id": "08d81cdc"
      },
      "source": [
        "# CNN_STORIES_PATH = Path(\"D:/__School/__Masters/____2021fALL/5290 nlp/stories/cnn/stories\")\n",
        "# DM_STORIES_PATH = Path(\"D:/__School/__Masters/____2021fALL/5290 nlp/stories/dailymail/stories\")"
      ],
      "id": "08d81cdc",
      "execution_count": null,
      "outputs": []
    },
    {
      "cell_type": "code",
      "metadata": {
        "id": "e7172b6a"
      },
      "source": [
        "# def grab_files(directory):\n",
        "#     for name in os.listdir(directory):\n",
        "#        full_path = os.path.join(directory, name)\n",
        "#        if os.path.isdir(full_path):\n",
        "#            for entry in grab_files(full_path):\n",
        "#                yield entry\n",
        "#        elif os.path.isfile(full_path):\n",
        "#            yield full_path\n",
        "#        else:\n",
        "#            print('Unidentified name %s. It could be a symbolic link' % full_path)"
      ],
      "id": "e7172b6a",
      "execution_count": null,
      "outputs": []
    },
    {
      "cell_type": "code",
      "metadata": {
        "id": "b920d51c"
      },
      "source": [
        "#i = 0\n",
        "#for file in grab_files(CNN_STORIES_PATH):\n",
        "#    i+=1\n",
        "#    print(file)\n",
        "#    if i == 5:\n",
        "#        break"
      ],
      "id": "b920d51c",
      "execution_count": null,
      "outputs": []
    },
    {
      "cell_type": "code",
      "metadata": {
        "id": "9b33d487"
      },
      "source": [
        "#f = open(CNN_STORIES_PATH.joinpath(\"0001d1afc246a7964130f43ae940af6bc6c57f01.story\"), \"r\")\n",
        "#print(f.read())"
      ],
      "id": "9b33d487",
      "execution_count": null,
      "outputs": []
    },
    {
      "cell_type": "code",
      "metadata": {
        "id": "69eae526"
      },
      "source": [
        "#f = open(CNN_STORIES_PATH.joinpath(\"0002095e55fcbd3a2f366d9bf92a95433dc305ef.story\"), \"r\")\n",
        "#print(f.read())"
      ],
      "id": "69eae526",
      "execution_count": null,
      "outputs": []
    },
    {
      "cell_type": "markdown",
      "metadata": {
        "id": "jfwmn_yEAmCW"
      },
      "source": [
        "# Data Analysis"
      ],
      "id": "jfwmn_yEAmCW"
    },
    {
      "cell_type": "code",
      "metadata": {
        "colab": {
          "base_uri": "https://localhost:8080/",
          "height": 281
        },
        "id": "KeZDEg0koCV3",
        "outputId": "3d2088a8-5397-49ab-ed2d-65b0aeea80aa"
      },
      "source": [
        "import matplotlib.pyplot as plt\n",
        "import numpy as np\n",
        "\n",
        "distrib = [dataset['train'].num_rows, dataset['validation'].num_rows, dataset['test'].num_rows]\n",
        "sums = 0\n",
        "for a in distrib:\n",
        "  sums += a \n",
        "\n",
        "fig, ax = plt.subplots()\n",
        "ind = np.arange(3)\n",
        "p1 = ax.bar(ind, distrib)\n",
        "ax.set_ylabel('Number of articles')\n",
        "ax.set_title('Dataset distribution')\n",
        "ax.set_xticks(ind)\n",
        "ax.set_xticklabels(('train', 'validation', 'test'))\n",
        "ax.bar_label(p1, labels=[str(round(a*100/sums,2))+' %' for a in distrib])\n",
        "plt.show()"
      ],
      "id": "KeZDEg0koCV3",
      "execution_count": 20,
      "outputs": [
        {
          "output_type": "display_data",
          "data": {
            "image/png": "[encoded data removed]",
            "text/plain": [
              "<Figure size 432x288 with 1 Axes>"
            ]
          },
          "metadata": {
            "needs_background": "light"
          }
        }
      ]
    },
    {
      "cell_type": "markdown",
      "metadata": {
        "id": "gI3l7BYAA5kK"
      },
      "source": [
        "# Data preperation"
      ],
      "id": "gI3l7BYAA5kK"
    },
    {
      "cell_type": "code",
      "metadata": {
        "id": "jLXQO4yJA8C-"
      },
      "source": [
        ""
      ],
      "id": "jLXQO4yJA8C-",
      "execution_count": null,
      "outputs": []
    },
    {
      "cell_type": "markdown",
      "metadata": {
        "id": "LF--xiYyArnr"
      },
      "source": [
        "# Clustering"
      ],
      "id": "LF--xiYyArnr"
    },
    {
      "cell_type": "code",
      "metadata": {
        "id": "AJ_pZejdAtHA"
      },
      "source": [
        ""
      ],
      "id": "AJ_pZejdAtHA",
      "execution_count": null,
      "outputs": []
    },
    {
      "cell_type": "markdown",
      "metadata": {
        "id": "0UM1MfbQAtzV"
      },
      "source": [
        "# Summarization"
      ],
      "id": "0UM1MfbQAtzV"
    },
    {
      "cell_type": "code",
      "metadata": {
        "id": "Qx1chp3-Avvu"
      },
      "source": [
        ""
      ],
      "id": "Qx1chp3-Avvu",
      "execution_count": null,
      "outputs": []
    },
    {
      "cell_type": "markdown",
      "metadata": {
        "id": "4RJzJTZfA-6D"
      },
      "source": [
        "# Model Evaluations"
      ],
      "id": "4RJzJTZfA-6D"
    },
    {
      "cell_type": "code",
      "metadata": {
        "id": "9ayPQf55BI7v"
      },
      "source": [
        ""
      ],
      "id": "9ayPQf55BI7v",
      "execution_count": null,
      "outputs": []
    }
  ]
}